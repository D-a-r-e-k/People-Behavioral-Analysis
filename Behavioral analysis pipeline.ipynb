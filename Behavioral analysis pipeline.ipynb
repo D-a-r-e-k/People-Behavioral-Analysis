{
 "cells": [
  {
   "cell_type": "markdown",
   "metadata": {},
   "source": [
    "# Dependencies"
   ]
  },
  {
   "cell_type": "code",
   "execution_count": null,
   "metadata": {},
   "outputs": [],
   "source": [
    "!pip install azureml"
   ]
  },
  {
   "cell_type": "code",
   "execution_count": null,
   "metadata": {
    "scrolled": true
   },
   "outputs": [],
   "source": [
    "!pip install azureml.core"
   ]
  },
  {
   "cell_type": "code",
   "execution_count": null,
   "metadata": {},
   "outputs": [],
   "source": [
    "!pip install azureml.pipeline"
   ]
  },
  {
   "cell_type": "code",
   "execution_count": null,
   "metadata": {},
   "outputs": [],
   "source": [
    "!pip install azureml.widgets"
   ]
  },
  {
   "cell_type": "markdown",
   "metadata": {},
   "source": [
    "# Pipeline setup"
   ]
  },
  {
   "cell_type": "code",
   "execution_count": null,
   "metadata": {},
   "outputs": [],
   "source": [
    "from azureml.core import Workspace, Datastore\n",
    "\n",
    "ws = Workspace.create(\n",
    "   name = 'hackingjunction',\n",
    "   subscription_id = 'a59b43cd-1c53-4a7e-b715-19b07f028dcf',\n",
    "   resource_group = 'hacking',\n",
    "   location = 'WestEurope',\n",
    "   exist_ok = True)"
   ]
  },
  {
   "cell_type": "code",
   "execution_count": null,
   "metadata": {},
   "outputs": [],
   "source": [
    "account_key = input()"
   ]
  },
  {
   "cell_type": "code",
   "execution_count": null,
   "metadata": {},
   "outputs": [],
   "source": [
    "storage_account = \"hackingjunctio1306266651\"\n",
    "container_name = \"inputs\""
   ]
  },
  {
   "cell_type": "code",
   "execution_count": null,
   "metadata": {},
   "outputs": [],
   "source": [
    "from azureml.core.runconfig import CondaDependencies, RunConfiguration\n",
    "\n",
    "cd = CondaDependencies.create(pip_packages =['azureml-defaults', 'pandas', 'numpy', 'scipy', 'sklearn','azure-storage-blob==2.1.0'])\n",
    "\n",
    "run_config = RunConfiguration(conda_dependencies = cd)\n",
    "run_config.environment.docker.enabled = True\n",
    "run_config.environment.spark.precache_packages = False"
   ]
  },
  {
   "cell_type": "code",
   "execution_count": null,
   "metadata": {},
   "outputs": [],
   "source": [
    "def_blob_store = Datastore(ws, 'workspaceblobstore')"
   ]
  },
  {
   "cell_type": "code",
   "execution_count": null,
   "metadata": {},
   "outputs": [],
   "source": [
    "from azureml.data.data_reference import DataReference\n",
    "from azureml.pipeline.core import PipelineData\n",
    "from azureml.pipeline.steps.python_script_step import PythonScriptStep\n",
    "import os\n",
    "from azureml.core.compute import ComputeTarget\n",
    "\n",
    "target = ws.compute_targets[\"JunctionCompute\"]\n",
    "\n",
    "input_ref = PipelineData(\n",
    "    f\"input\",\n",
    "    datastore = def_blob_store,\n",
    "    output_name=f\"input\")\n",
    "\n",
    "output_ref = PipelineData(\n",
    "    f\"output\",\n",
    "    datastore = def_blob_store,\n",
    "    output_name=f\"output\")\n",
    "\n",
    "train_step = PythonScriptStep(\n",
    "    script_name = 'train.py',\n",
    "    arguments = ['--input_path', input_ref,\n",
    "                 '--output', output_ref,            \n",
    "                 '--input_container', container_name,\n",
    "                 '--output_container', 'outputs',\n",
    "                 '--input_account', storage_account,\n",
    "                 '--input_key', account_key],\n",
    "    outputs = [output_ref, input_ref],\n",
    "    compute_target = target,\n",
    "    source_directory = './BehavioralAnalysis',\n",
    "    allow_reuse = False,\n",
    "    runconfig = run_config\n",
    ")\n",
    "\n",
    "pipeline_steps = [train_step]"
   ]
  },
  {
   "cell_type": "code",
   "execution_count": null,
   "metadata": {},
   "outputs": [],
   "source": [
    "from azureml.pipeline.core import Pipeline\n",
    "\n",
    "pipeline = Pipeline(workspace = ws, steps = pipeline_steps)"
   ]
  },
  {
   "cell_type": "code",
   "execution_count": null,
   "metadata": {},
   "outputs": [],
   "source": [
    "from azureml.core.experiment import Experiment\n",
    "from azureml.widgets import RunDetails\n",
    "\n",
    "pipeline_run = Experiment(ws, 'Behavioral_Analysis_Experiment').submit(pipeline)\n",
    "\n",
    "#pipeline_run.wait_for_completion(show_output = True)\n",
    "RunDetails(pipeline_run).show()"
   ]
  },
  {
   "cell_type": "markdown",
   "metadata": {},
   "source": [
    "# Deployment"
   ]
  },
  {
   "cell_type": "code",
   "execution_count": null,
   "metadata": {},
   "outputs": [],
   "source": [
    "from azureml.pipeline.core import PublishedPipeline\n",
    "\n",
    "pipelines = list(filter(lambda x: x._name == 'Behavioral_Analysis_Experiment', PublishedPipeline.list(ws)))\n",
    "for pipeline in pipelines:\n",
    "    pipeline.disable()"
   ]
  },
  {
   "cell_type": "code",
   "execution_count": null,
   "metadata": {},
   "outputs": [],
   "source": [
    "pipeline = Pipeline(workspace = ws, steps = pipeline_steps)\n",
    "\n",
    "published_pipeline = pipeline.publish(\n",
    "    name=\"Behavioral_Analysis_Experiment\",\n",
    "    description=\"Retrains the model & computes behavioral tags for users\",\n",
    "    version=0.1)"
   ]
  },
  {
   "cell_type": "code",
   "execution_count": null,
   "metadata": {},
   "outputs": [],
   "source": []
  }
 ],
 "metadata": {
  "kernelspec": {
   "display_name": "Python 3",
   "language": "python",
   "name": "python3"
  },
  "language_info": {
   "codemirror_mode": {
    "name": "ipython",
    "version": 3
   },
   "file_extension": ".py",
   "mimetype": "text/x-python",
   "name": "python",
   "nbconvert_exporter": "python",
   "pygments_lexer": "ipython3",
   "version": "3.7.3"
  }
 },
 "nbformat": 4,
 "nbformat_minor": 2
}
