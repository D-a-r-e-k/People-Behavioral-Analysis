{
 "cells": [
  {
   "cell_type": "code",
   "execution_count": 5,
   "metadata": {},
   "outputs": [],
   "source": [
    "import requests\n",
    "import pandas as pd\n",
    "import json"
   ]
  },
  {
   "cell_type": "code",
   "execution_count": 6,
   "metadata": {},
   "outputs": [],
   "source": [
    "def api_call_data(time_start_end_tup):\n",
    "    print(time_start_end_tup)\n",
    "    time_start = time_start_end_tup[0]\n",
    "    time_end = time_start_end_tup[1]\n",
    "    url = \"https://api.hypr.cl/raw/\"\n",
    "    headers = {\n",
    "     'x-api-key': \"iQ0WKQlv3a7VqVSKG6BlE9IQ88bUYQws6UZLRs1B\",\n",
    "     'time_start': time_start, 'time_stop': time_end, 'Accept': \"*/*\",\n",
    "     'Cache-Control': \"no-cache\", 'Host': \"api.hypr.cl\",\n",
    "     'Accept-Encoding': \"gzip, deflate\",\n",
    "     'Content-Length': \"0\", 'Connection': \"keep-alive\",\n",
    "     'cache-control': \"no-cache\" }\n",
    "    response = requests.request(\"POST\", url, headers=headers)\n",
    "    df_raw = pd.DataFrame(json.loads(response.text)['raw'])\n",
    "    df_raw.to_csv(f'Data/raw_data_{time_start.replace(\":\", \"\").replace(\"-\", \"\")}.csv')\n",
    "    return df_raw"
   ]
  },
  {
   "cell_type": "code",
   "execution_count": 7,
   "metadata": {},
   "outputs": [],
   "source": [
    "from multiprocessing import Pool, TimeoutError"
   ]
  },
  {
   "cell_type": "code",
   "execution_count": 8,
   "metadata": {},
   "outputs": [],
   "source": [
    "pool = Pool(3)"
   ]
  },
  {
   "cell_type": "code",
   "execution_count": 9,
   "metadata": {},
   "outputs": [
    {
     "data": {
      "text/plain": [
       "668"
      ]
     },
     "execution_count": 9,
     "metadata": {},
     "output_type": "execute_result"
    }
   ],
   "source": [
    "from datetime import datetime, timedelta\n",
    "\n",
    "\n",
    "11 * 60 + 8"
   ]
  },
  {
   "cell_type": "code",
   "execution_count": 10,
   "metadata": {},
   "outputs": [],
   "source": [
    "start = \"2019-08-02T12:52:00Z\"\n",
    "time_array = [datetime.strftime(datetime.strptime(start, '%Y-%m-%dT%H:%M:%SZ') + timedelta(minutes=i), '%Y-%m-%dT%H:%M:%SZ') for i in range(668)]"
   ]
  },
  {
   "cell_type": "code",
   "execution_count": null,
   "metadata": {},
   "outputs": [],
   "source": [
    "for start, end in zip(time_array[:-1], time_array[1:]):\n",
    "    api_call_data((start, end))\n"
   ]
  },
  {
   "cell_type": "code",
   "execution_count": null,
   "metadata": {},
   "outputs": [],
   "source": [
    "data = [(\"2019-08-01T12:00:00Z\", \"2019-08-01T12:01:00Z\"),\n",
    "        (\"2019-08-01T12:01:00Z\", \"2019-08-01T12:02:00Z\"),\n",
    "        (\"2019-08-01T12:02:00Z\", \"2019-08-01T12:03:00Z\")]"
   ]
  },
  {
   "cell_type": "code",
   "execution_count": null,
   "metadata": {},
   "outputs": [],
   "source": [
    "for d in data:\n",
    "    api_call_data(d)"
   ]
  },
  {
   "cell_type": "code",
   "execution_count": null,
   "metadata": {},
   "outputs": [],
   "source": [
    "t = pool.map(api_call_data, data)"
   ]
  },
  {
   "cell_type": "code",
   "execution_count": null,
   "metadata": {},
   "outputs": [],
   "source": [
    "pool.close()\n",
    "pool.join()"
   ]
  },
  {
   "cell_type": "code",
   "execution_count": null,
   "metadata": {},
   "outputs": [],
   "source": [
    "#api_call_data(\"2019-08-01T12:00:00Z\", \"2019-08-01T12:01:00Z\")"
   ]
  },
  {
   "cell_type": "code",
   "execution_count": null,
   "metadata": {},
   "outputs": [],
   "source": []
  },
  {
   "cell_type": "code",
   "execution_count": null,
   "metadata": {},
   "outputs": [],
   "source": []
  },
  {
   "cell_type": "code",
   "execution_count": null,
   "metadata": {},
   "outputs": [],
   "source": []
  },
  {
   "cell_type": "code",
   "execution_count": null,
   "metadata": {},
   "outputs": [],
   "source": []
  },
  {
   "cell_type": "code",
   "execution_count": null,
   "metadata": {},
   "outputs": [],
   "source": []
  },
  {
   "cell_type": "code",
   "execution_count": null,
   "metadata": {},
   "outputs": [],
   "source": []
  }
 ],
 "metadata": {
  "kernelspec": {
   "display_name": "Python 3",
   "language": "python",
   "name": "python3"
  },
  "language_info": {
   "codemirror_mode": {
    "name": "ipython",
    "version": 3
   },
   "file_extension": ".py",
   "mimetype": "text/x-python",
   "name": "python",
   "nbconvert_exporter": "python",
   "pygments_lexer": "ipython3",
   "version": "3.7.5"
  }
 },
 "nbformat": 4,
 "nbformat_minor": 2
}
