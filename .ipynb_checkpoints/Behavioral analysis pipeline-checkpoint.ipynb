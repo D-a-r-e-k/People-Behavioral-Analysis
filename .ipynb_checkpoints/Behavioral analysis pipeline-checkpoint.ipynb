{
 "cells": [
  {
   "cell_type": "markdown",
   "metadata": {},
   "source": [
    "# Dependencies"
   ]
  },
  {
   "cell_type": "code",
   "execution_count": 1,
   "metadata": {},
   "outputs": [
    {
     "name": "stdout",
     "output_type": "stream",
     "text": [
      "Collecting azureml\n",
      "  Downloading https://files.pythonhosted.org/packages/ab/e8/76cd2cb6784b9039affd2c659eed1b3f46baf2e6b87a10b072a20b5b0113/azureml-0.2.7-py2.py3-none-any.whl\n",
      "Requirement already satisfied: python-dateutil in c:\\users\\modestasj\\appdata\\local\\programs\\python\\python36\\lib\\site-packages (from azureml) (2.8.0)\n",
      "Requirement already satisfied: pandas in c:\\users\\modestasj\\appdata\\local\\programs\\python\\python36\\lib\\site-packages (from azureml) (0.25.3)\n",
      "Requirement already satisfied: requests in c:\\users\\modestasj\\appdata\\local\\programs\\python\\python36\\lib\\site-packages (from azureml) (2.22.0)\n",
      "Requirement already satisfied: six>=1.5 in c:\\users\\modestasj\\appdata\\local\\programs\\python\\python36\\lib\\site-packages (from python-dateutil->azureml) (1.12.0)\n",
      "Requirement already satisfied: numpy>=1.13.3 in c:\\users\\modestasj\\appdata\\local\\programs\\python\\python36\\lib\\site-packages (from pandas->azureml) (1.17.0)\n",
      "Requirement already satisfied: pytz>=2017.2 in c:\\users\\modestasj\\appdata\\local\\programs\\python\\python36\\lib\\site-packages (from pandas->azureml) (2019.2)\n",
      "Requirement already satisfied: urllib3!=1.25.0,!=1.25.1,<1.26,>=1.21.1 in c:\\users\\modestasj\\appdata\\local\\programs\\python\\python36\\lib\\site-packages (from requests->azureml) (1.25.3)\n",
      "Requirement already satisfied: chardet<3.1.0,>=3.0.2 in c:\\users\\modestasj\\appdata\\local\\programs\\python\\python36\\lib\\site-packages (from requests->azureml) (3.0.4)\n",
      "Requirement already satisfied: certifi>=2017.4.17 in c:\\users\\modestasj\\appdata\\local\\programs\\python\\python36\\lib\\site-packages (from requests->azureml) (2019.6.16)\n",
      "Requirement already satisfied: idna<2.9,>=2.5 in c:\\users\\modestasj\\appdata\\local\\programs\\python\\python36\\lib\\site-packages (from requests->azureml) (2.8)\n",
      "Installing collected packages: azureml\n",
      "Successfully installed azureml-0.2.7\n"
     ]
    },
    {
     "name": "stderr",
     "output_type": "stream",
     "text": [
      "WARNING: You are using pip version 19.2.3, however version 19.3.1 is available.\n",
      "You should consider upgrading via the 'python -m pip install --upgrade pip' command.\n"
     ]
    }
   ],
   "source": [
    "!pip install azureml"
   ]
  },
  {
   "cell_type": "code",
   "execution_count": 2,
   "metadata": {
    "scrolled": true
   },
   "outputs": [
    {
     "name": "stdout",
     "output_type": "stream",
     "text": [
      "Collecting azureml.core\n",
      "  Downloading https://files.pythonhosted.org/packages/32/3a/88d5d2511cc5f7f8f963f06e75525f94118f770e15dee162a4419323fc69/azureml_core-1.0.74-py2.py3-none-any.whl (1.2MB)\n",
      "Requirement already satisfied: ndg-httpsclient in c:\\users\\modestasj\\appdata\\local\\programs\\python\\python36\\lib\\site-packages (from azureml.core) (0.5.1)\n",
      "Requirement already satisfied: azure-mgmt-authorization>=0.40.0 in c:\\users\\modestasj\\appdata\\local\\programs\\python\\python36\\lib\\site-packages (from azureml.core) (0.60.0)\n",
      "Requirement already satisfied: contextlib2 in c:\\users\\modestasj\\appdata\\local\\programs\\python\\python36\\lib\\site-packages (from azureml.core) (0.5.5)\n",
      "Requirement already satisfied: python-dateutil>=2.7.3 in c:\\users\\modestasj\\appdata\\local\\programs\\python\\python36\\lib\\site-packages (from azureml.core) (2.8.0)\n",
      "Requirement already satisfied: backports.tempfile in c:\\users\\modestasj\\appdata\\local\\programs\\python\\python36\\lib\\site-packages (from azureml.core) (1.0)\n",
      "Requirement already satisfied: PyJWT in c:\\users\\modestasj\\appdata\\local\\programs\\python\\python36\\lib\\site-packages (from azureml.core) (1.7.1)\n",
      "Requirement already satisfied: azure-mgmt-keyvault>=0.40.0 in c:\\users\\modestasj\\appdata\\local\\programs\\python\\python36\\lib\\site-packages (from azureml.core) (2.0.0)\n",
      "Requirement already satisfied: jmespath in c:\\users\\modestasj\\appdata\\local\\programs\\python\\python36\\lib\\site-packages (from azureml.core) (0.9.4)\n",
      "Requirement already satisfied: azure-graphrbac>=0.40.0 in c:\\users\\modestasj\\appdata\\local\\programs\\python\\python36\\lib\\site-packages (from azureml.core) (0.61.1)\n",
      "Requirement already satisfied: pyopenssl in c:\\users\\modestasj\\appdata\\local\\programs\\python\\python36\\lib\\site-packages (from azureml.core) (19.0.0)\n",
      "Requirement already satisfied: docker in c:\\users\\modestasj\\appdata\\local\\programs\\python\\python36\\lib\\site-packages (from azureml.core) (4.0.2)\n",
      "Requirement already satisfied: adal>=1.2.0 in c:\\users\\modestasj\\appdata\\local\\programs\\python\\python36\\lib\\site-packages (from azureml.core) (1.2.2)\n",
      "Requirement already satisfied: pathspec in c:\\users\\modestasj\\appdata\\local\\programs\\python\\python36\\lib\\site-packages (from azureml.core) (0.5.9)\n",
      "Requirement already satisfied: requests>=2.19.1 in c:\\users\\modestasj\\appdata\\local\\programs\\python\\python36\\lib\\site-packages (from azureml.core) (2.22.0)\n",
      "Requirement already satisfied: msrestazure>=0.4.33 in c:\\users\\modestasj\\appdata\\local\\programs\\python\\python36\\lib\\site-packages (from azureml.core) (0.6.1)\n",
      "Requirement already satisfied: azure-common>=1.1.12 in c:\\users\\modestasj\\appdata\\local\\programs\\python\\python36\\lib\\site-packages (from azureml.core) (1.1.23)\n",
      "Requirement already satisfied: azure-mgmt-resource>=1.2.1 in c:\\users\\modestasj\\appdata\\local\\programs\\python\\python36\\lib\\site-packages (from azureml.core) (3.1.0)\n",
      "Requirement already satisfied: urllib3>=1.23 in c:\\users\\modestasj\\appdata\\local\\programs\\python\\python36\\lib\\site-packages (from azureml.core) (1.25.3)\n",
      "Requirement already satisfied: cryptography!=1.9,!=2.0.*,!=2.1.*,!=2.2.* in c:\\users\\modestasj\\appdata\\local\\programs\\python\\python36\\lib\\site-packages (from azureml.core) (2.7)\n",
      "Requirement already satisfied: ruamel.yaml<=0.15.89,>=0.15.35 in c:\\users\\modestasj\\appdata\\local\\programs\\python\\python36\\lib\\site-packages (from azureml.core) (0.15.89)\n",
      "Requirement already satisfied: pytz in c:\\users\\modestasj\\appdata\\local\\programs\\python\\python36\\lib\\site-packages (from azureml.core) (2019.2)\n",
      "Requirement already satisfied: SecretStorage in c:\\users\\modestasj\\appdata\\local\\programs\\python\\python36\\lib\\site-packages (from azureml.core) (3.1.1)\n",
      "Requirement already satisfied: azure-mgmt-storage>=1.5.0 in c:\\users\\modestasj\\appdata\\local\\programs\\python\\python36\\lib\\site-packages (from azureml.core) (4.0.0)\n",
      "Requirement already satisfied: azure-mgmt-containerregistry>=2.0.0 in c:\\users\\modestasj\\appdata\\local\\programs\\python\\python36\\lib\\site-packages (from azureml.core) (2.8.0)\n",
      "Requirement already satisfied: jsonpickle in c:\\users\\modestasj\\appdata\\local\\programs\\python\\python36\\lib\\site-packages (from azureml.core) (1.2)\n",
      "Requirement already satisfied: six>=1.11.0 in c:\\users\\modestasj\\appdata\\local\\programs\\python\\python36\\lib\\site-packages (from azureml.core) (1.12.0)\n",
      "Requirement already satisfied: msrest>=0.5.1 in c:\\users\\modestasj\\appdata\\local\\programs\\python\\python36\\lib\\site-packages (from azureml.core) (0.6.9)\n",
      "Requirement already satisfied: pyasn1>=0.1.1 in c:\\users\\modestasj\\appdata\\local\\programs\\python\\python36\\lib\\site-packages (from ndg-httpsclient->azureml.core) (0.4.6)\n",
      "Requirement already satisfied: backports.weakref in c:\\users\\modestasj\\appdata\\local\\programs\\python\\python36\\lib\\site-packages (from backports.tempfile->azureml.core) (1.0.post1)\n",
      "Requirement already satisfied: websocket-client>=0.32.0 in c:\\users\\modestasj\\appdata\\local\\programs\\python\\python36\\lib\\site-packages (from docker->azureml.core) (0.56.0)\n",
      "Requirement already satisfied: pypiwin32==223; sys_platform == \"win32\" and python_version >= \"3.6\" in c:\\users\\modestasj\\appdata\\local\\programs\\python\\python36\\lib\\site-packages (from docker->azureml.core) (223)\n",
      "Requirement already satisfied: chardet<3.1.0,>=3.0.2 in c:\\users\\modestasj\\appdata\\local\\programs\\python\\python36\\lib\\site-packages (from requests>=2.19.1->azureml.core) (3.0.4)\n",
      "Requirement already satisfied: idna<2.9,>=2.5 in c:\\users\\modestasj\\appdata\\local\\programs\\python\\python36\\lib\\site-packages (from requests>=2.19.1->azureml.core) (2.8)\n",
      "Requirement already satisfied: certifi>=2017.4.17 in c:\\users\\modestasj\\appdata\\local\\programs\\python\\python36\\lib\\site-packages (from requests>=2.19.1->azureml.core) (2019.6.16)\n",
      "Requirement already satisfied: asn1crypto>=0.21.0 in c:\\users\\modestasj\\appdata\\local\\programs\\python\\python36\\lib\\site-packages (from cryptography!=1.9,!=2.0.*,!=2.1.*,!=2.2.*->azureml.core) (0.24.0)\n",
      "Requirement already satisfied: cffi!=1.11.3,>=1.8 in c:\\users\\modestasj\\appdata\\local\\programs\\python\\python36\\lib\\site-packages (from cryptography!=1.9,!=2.0.*,!=2.1.*,!=2.2.*->azureml.core) (1.12.3)\n",
      "Requirement already satisfied: jeepney in c:\\users\\modestasj\\appdata\\local\\programs\\python\\python36\\lib\\site-packages (from SecretStorage->azureml.core) (0.4.1)\n",
      "Requirement already satisfied: requests-oauthlib>=0.5.0 in c:\\users\\modestasj\\appdata\\local\\programs\\python\\python36\\lib\\site-packages (from msrest>=0.5.1->azureml.core) (1.2.0)\n",
      "Requirement already satisfied: isodate>=0.6.0 in c:\\users\\modestasj\\appdata\\local\\programs\\python\\python36\\lib\\site-packages (from msrest>=0.5.1->azureml.core) (0.6.0)\n",
      "Requirement already satisfied: pywin32>=223 in c:\\users\\modestasj\\appdata\\local\\programs\\python\\python36\\lib\\site-packages (from pypiwin32==223; sys_platform == \"win32\" and python_version >= \"3.6\"->docker->azureml.core) (224)\n",
      "Requirement already satisfied: pycparser in c:\\users\\modestasj\\appdata\\local\\programs\\python\\python36\\lib\\site-packages (from cffi!=1.11.3,>=1.8->cryptography!=1.9,!=2.0.*,!=2.1.*,!=2.2.*->azureml.core) (2.19)\n",
      "Requirement already satisfied: oauthlib>=3.0.0 in c:\\users\\modestasj\\appdata\\local\\programs\\python\\python36\\lib\\site-packages (from requests-oauthlib>=0.5.0->msrest>=0.5.1->azureml.core) (3.1.0)\n",
      "Installing collected packages: azureml.core\n",
      "Successfully installed azureml.core\n"
     ]
    },
    {
     "name": "stderr",
     "output_type": "stream",
     "text": [
      "ERROR: azureml-widgets 1.0.57 has requirement azureml-core==1.0.57.*, but you'll have azureml-core 1.0.74 which is incompatible.\n",
      "ERROR: azureml-train-core 1.0.57 has requirement azureml-core==1.0.57.*, but you'll have azureml-core 1.0.74 which is incompatible.\n",
      "ERROR: azureml-sdk 1.0.57 has requirement azureml-core==1.0.57.*, but you'll have azureml-core 1.0.74 which is incompatible.\n",
      "ERROR: azureml-pipeline-core 1.0.57 has requirement azureml-core==1.0.57.*, but you'll have azureml-core 1.0.74 which is incompatible.\n",
      "WARNING: You are using pip version 19.2.3, however version 19.3.1 is available.\n",
      "You should consider upgrading via the 'python -m pip install --upgrade pip' command.\n"
     ]
    }
   ],
   "source": [
    "!pip install azureml.core"
   ]
  },
  {
   "cell_type": "code",
   "execution_count": 3,
   "metadata": {},
   "outputs": [
    {
     "name": "stdout",
     "output_type": "stream",
     "text": [
      "Collecting azureml.pipeline\n",
      "  Downloading https://files.pythonhosted.org/packages/b5/c9/2d0b2f0c354f9a501386c54b1c29fc16ea356694e58139284a722820e3e0/azureml_pipeline-1.0.74-py3-none-any.whl\n",
      "Collecting azureml-pipeline-core==1.0.74.* (from azureml.pipeline)\n",
      "  Downloading https://files.pythonhosted.org/packages/08/42/11517a66b93ccf8e60cf8d6c1b249b42eb7ca65e3f9b655509986b369aed/azureml_pipeline_core-1.0.74-py2.py3-none-any.whl (264kB)\n",
      "Collecting azureml-pipeline-steps==1.0.74.* (from azureml.pipeline)\n",
      "  Downloading https://files.pythonhosted.org/packages/7b/a7/5da3bc7452349128c40b0b04ab18bce48a9b2268f520991b2387b01efa77/azureml_pipeline_steps-1.0.74-py3-none-any.whl (40kB)\n",
      "Requirement already satisfied: azureml-core==1.0.74.* in c:\\users\\modestasj\\appdata\\local\\programs\\python\\python36\\lib\\site-packages (from azureml-pipeline-core==1.0.74.*->azureml.pipeline) (1.0.74)\n",
      "Collecting azureml-train-core==1.0.74.* (from azureml-pipeline-steps==1.0.74.*->azureml.pipeline)\n",
      "  Downloading https://files.pythonhosted.org/packages/94/af/edcd2081be2131958a220a349b5ca0a138e81764d1a3cea3016ba82e54db/azureml_train_core-1.0.74-py3-none-any.whl (7.7MB)\n",
      "Requirement already satisfied: six>=1.11.0 in c:\\users\\modestasj\\appdata\\local\\programs\\python\\python36\\lib\\site-packages (from azureml-core==1.0.74.*->azureml-pipeline-core==1.0.74.*->azureml.pipeline) (1.12.0)\n",
      "Requirement already satisfied: docker in c:\\users\\modestasj\\appdata\\local\\programs\\python\\python36\\lib\\site-packages (from azureml-core==1.0.74.*->azureml-pipeline-core==1.0.74.*->azureml.pipeline) (4.0.2)\n",
      "Requirement already satisfied: adal>=1.2.0 in c:\\users\\modestasj\\appdata\\local\\programs\\python\\python36\\lib\\site-packages (from azureml-core==1.0.74.*->azureml-pipeline-core==1.0.74.*->azureml.pipeline) (1.2.2)\n",
      "Requirement already satisfied: azure-mgmt-keyvault>=0.40.0 in c:\\users\\modestasj\\appdata\\local\\programs\\python\\python36\\lib\\site-packages (from azureml-core==1.0.74.*->azureml-pipeline-core==1.0.74.*->azureml.pipeline) (2.0.0)\n",
      "Requirement already satisfied: ndg-httpsclient in c:\\users\\modestasj\\appdata\\local\\programs\\python\\python36\\lib\\site-packages (from azureml-core==1.0.74.*->azureml-pipeline-core==1.0.74.*->azureml.pipeline) (0.5.1)\n",
      "Requirement already satisfied: ruamel.yaml<=0.15.89,>=0.15.35 in c:\\users\\modestasj\\appdata\\local\\programs\\python\\python36\\lib\\site-packages (from azureml-core==1.0.74.*->azureml-pipeline-core==1.0.74.*->azureml.pipeline) (0.15.89)\n",
      "Requirement already satisfied: msrestazure>=0.4.33 in c:\\users\\modestasj\\appdata\\local\\programs\\python\\python36\\lib\\site-packages (from azureml-core==1.0.74.*->azureml-pipeline-core==1.0.74.*->azureml.pipeline) (0.6.1)\n",
      "Requirement already satisfied: azure-mgmt-resource>=1.2.1 in c:\\users\\modestasj\\appdata\\local\\programs\\python\\python36\\lib\\site-packages (from azureml-core==1.0.74.*->azureml-pipeline-core==1.0.74.*->azureml.pipeline) (3.1.0)\n",
      "Requirement already satisfied: azure-common>=1.1.12 in c:\\users\\modestasj\\appdata\\local\\programs\\python\\python36\\lib\\site-packages (from azureml-core==1.0.74.*->azureml-pipeline-core==1.0.74.*->azureml.pipeline) (1.1.23)\n",
      "Requirement already satisfied: jsonpickle in c:\\users\\modestasj\\appdata\\local\\programs\\python\\python36\\lib\\site-packages (from azureml-core==1.0.74.*->azureml-pipeline-core==1.0.74.*->azureml.pipeline) (1.2)\n",
      "Requirement already satisfied: PyJWT in c:\\users\\modestasj\\appdata\\local\\programs\\python\\python36\\lib\\site-packages (from azureml-core==1.0.74.*->azureml-pipeline-core==1.0.74.*->azureml.pipeline) (1.7.1)\n",
      "Requirement already satisfied: backports.tempfile in c:\\users\\modestasj\\appdata\\local\\programs\\python\\python36\\lib\\site-packages (from azureml-core==1.0.74.*->azureml-pipeline-core==1.0.74.*->azureml.pipeline) (1.0)\n",
      "Requirement already satisfied: azure-graphrbac>=0.40.0 in c:\\users\\modestasj\\appdata\\local\\programs\\python\\python36\\lib\\site-packages (from azureml-core==1.0.74.*->azureml-pipeline-core==1.0.74.*->azureml.pipeline) (0.61.1)\n",
      "Requirement already satisfied: pyopenssl in c:\\users\\modestasj\\appdata\\local\\programs\\python\\python36\\lib\\site-packages (from azureml-core==1.0.74.*->azureml-pipeline-core==1.0.74.*->azureml.pipeline) (19.0.0)\n",
      "Requirement already satisfied: pathspec in c:\\users\\modestasj\\appdata\\local\\programs\\python\\python36\\lib\\site-packages (from azureml-core==1.0.74.*->azureml-pipeline-core==1.0.74.*->azureml.pipeline) (0.5.9)\n",
      "Requirement already satisfied: azure-mgmt-containerregistry>=2.0.0 in c:\\users\\modestasj\\appdata\\local\\programs\\python\\python36\\lib\\site-packages (from azureml-core==1.0.74.*->azureml-pipeline-core==1.0.74.*->azureml.pipeline) (2.8.0)\n",
      "Requirement already satisfied: jmespath in c:\\users\\modestasj\\appdata\\local\\programs\\python\\python36\\lib\\site-packages (from azureml-core==1.0.74.*->azureml-pipeline-core==1.0.74.*->azureml.pipeline) (0.9.4)\n",
      "Requirement already satisfied: cryptography!=1.9,!=2.0.*,!=2.1.*,!=2.2.* in c:\\users\\modestasj\\appdata\\local\\programs\\python\\python36\\lib\\site-packages (from azureml-core==1.0.74.*->azureml-pipeline-core==1.0.74.*->azureml.pipeline) (2.7)\n",
      "Requirement already satisfied: pytz in c:\\users\\modestasj\\appdata\\local\\programs\\python\\python36\\lib\\site-packages (from azureml-core==1.0.74.*->azureml-pipeline-core==1.0.74.*->azureml.pipeline) (2019.2)\n",
      "Requirement already satisfied: azure-mgmt-authorization>=0.40.0 in c:\\users\\modestasj\\appdata\\local\\programs\\python\\python36\\lib\\site-packages (from azureml-core==1.0.74.*->azureml-pipeline-core==1.0.74.*->azureml.pipeline) (0.60.0)\n",
      "Requirement already satisfied: msrest>=0.5.1 in c:\\users\\modestasj\\appdata\\local\\programs\\python\\python36\\lib\\site-packages (from azureml-core==1.0.74.*->azureml-pipeline-core==1.0.74.*->azureml.pipeline) (0.6.9)\n",
      "Requirement already satisfied: python-dateutil>=2.7.3 in c:\\users\\modestasj\\appdata\\local\\programs\\python\\python36\\lib\\site-packages (from azureml-core==1.0.74.*->azureml-pipeline-core==1.0.74.*->azureml.pipeline) (2.8.0)\n",
      "Requirement already satisfied: contextlib2 in c:\\users\\modestasj\\appdata\\local\\programs\\python\\python36\\lib\\site-packages (from azureml-core==1.0.74.*->azureml-pipeline-core==1.0.74.*->azureml.pipeline) (0.5.5)\n",
      "Requirement already satisfied: urllib3>=1.23 in c:\\users\\modestasj\\appdata\\local\\programs\\python\\python36\\lib\\site-packages (from azureml-core==1.0.74.*->azureml-pipeline-core==1.0.74.*->azureml.pipeline) (1.25.3)\n",
      "Requirement already satisfied: requests>=2.19.1 in c:\\users\\modestasj\\appdata\\local\\programs\\python\\python36\\lib\\site-packages (from azureml-core==1.0.74.*->azureml-pipeline-core==1.0.74.*->azureml.pipeline) (2.22.0)\n",
      "Requirement already satisfied: SecretStorage in c:\\users\\modestasj\\appdata\\local\\programs\\python\\python36\\lib\\site-packages (from azureml-core==1.0.74.*->azureml-pipeline-core==1.0.74.*->azureml.pipeline) (3.1.1)\n",
      "Requirement already satisfied: azure-mgmt-storage>=1.5.0 in c:\\users\\modestasj\\appdata\\local\\programs\\python\\python36\\lib\\site-packages (from azureml-core==1.0.74.*->azureml-pipeline-core==1.0.74.*->azureml.pipeline) (4.0.0)\n",
      "Collecting azureml-telemetry==1.0.74.* (from azureml-train-core==1.0.74.*->azureml-pipeline-steps==1.0.74.*->azureml.pipeline)\n",
      "  Downloading https://files.pythonhosted.org/packages/41/ab/9733bc6a4f2397f095c8bada36fb7b7536c369336ed6c8c758be67cdaa0b/azureml_telemetry-1.0.74-py3-none-any.whl\n",
      "Collecting azureml-train-restclients-hyperdrive==1.0.74.* (from azureml-train-core==1.0.74.*->azureml-pipeline-steps==1.0.74.*->azureml.pipeline)\n",
      "  Downloading https://files.pythonhosted.org/packages/8c/3f/4a93100bc654902909540a54e9e58345a97243d77eb82eec7756fcbe3f41/azureml_train_restclients_hyperdrive-1.0.74-py3-none-any.whl\n",
      "Requirement already satisfied: websocket-client>=0.32.0 in c:\\users\\modestasj\\appdata\\local\\programs\\python\\python36\\lib\\site-packages (from docker->azureml-core==1.0.74.*->azureml-pipeline-core==1.0.74.*->azureml.pipeline) (0.56.0)\n",
      "Requirement already satisfied: pypiwin32==223; sys_platform == \"win32\" and python_version >= \"3.6\" in c:\\users\\modestasj\\appdata\\local\\programs\\python\\python36\\lib\\site-packages (from docker->azureml-core==1.0.74.*->azureml-pipeline-core==1.0.74.*->azureml.pipeline) (223)\n",
      "Requirement already satisfied: pyasn1>=0.1.1 in c:\\users\\modestasj\\appdata\\local\\programs\\python\\python36\\lib\\site-packages (from ndg-httpsclient->azureml-core==1.0.74.*->azureml-pipeline-core==1.0.74.*->azureml.pipeline) (0.4.6)\n",
      "Requirement already satisfied: backports.weakref in c:\\users\\modestasj\\appdata\\local\\programs\\python\\python36\\lib\\site-packages (from backports.tempfile->azureml-core==1.0.74.*->azureml-pipeline-core==1.0.74.*->azureml.pipeline) (1.0.post1)\n",
      "Requirement already satisfied: cffi!=1.11.3,>=1.8 in c:\\users\\modestasj\\appdata\\local\\programs\\python\\python36\\lib\\site-packages (from cryptography!=1.9,!=2.0.*,!=2.1.*,!=2.2.*->azureml-core==1.0.74.*->azureml-pipeline-core==1.0.74.*->azureml.pipeline) (1.12.3)\n",
      "Requirement already satisfied: asn1crypto>=0.21.0 in c:\\users\\modestasj\\appdata\\local\\programs\\python\\python36\\lib\\site-packages (from cryptography!=1.9,!=2.0.*,!=2.1.*,!=2.2.*->azureml-core==1.0.74.*->azureml-pipeline-core==1.0.74.*->azureml.pipeline) (0.24.0)\n",
      "Requirement already satisfied: certifi>=2017.4.17 in c:\\users\\modestasj\\appdata\\local\\programs\\python\\python36\\lib\\site-packages (from msrest>=0.5.1->azureml-core==1.0.74.*->azureml-pipeline-core==1.0.74.*->azureml.pipeline) (2019.6.16)\n",
      "Requirement already satisfied: requests-oauthlib>=0.5.0 in c:\\users\\modestasj\\appdata\\local\\programs\\python\\python36\\lib\\site-packages (from msrest>=0.5.1->azureml-core==1.0.74.*->azureml-pipeline-core==1.0.74.*->azureml.pipeline) (1.2.0)\n",
      "Requirement already satisfied: isodate>=0.6.0 in c:\\users\\modestasj\\appdata\\local\\programs\\python\\python36\\lib\\site-packages (from msrest>=0.5.1->azureml-core==1.0.74.*->azureml-pipeline-core==1.0.74.*->azureml.pipeline) (0.6.0)\n",
      "Requirement already satisfied: idna<2.9,>=2.5 in c:\\users\\modestasj\\appdata\\local\\programs\\python\\python36\\lib\\site-packages (from requests>=2.19.1->azureml-core==1.0.74.*->azureml-pipeline-core==1.0.74.*->azureml.pipeline) (2.8)\n",
      "Requirement already satisfied: chardet<3.1.0,>=3.0.2 in c:\\users\\modestasj\\appdata\\local\\programs\\python\\python36\\lib\\site-packages (from requests>=2.19.1->azureml-core==1.0.74.*->azureml-pipeline-core==1.0.74.*->azureml.pipeline) (3.0.4)\n",
      "Requirement already satisfied: jeepney in c:\\users\\modestasj\\appdata\\local\\programs\\python\\python36\\lib\\site-packages (from SecretStorage->azureml-core==1.0.74.*->azureml-pipeline-core==1.0.74.*->azureml.pipeline) (0.4.1)\n",
      "Requirement already satisfied: applicationinsights in c:\\users\\modestasj\\appdata\\local\\programs\\python\\python36\\lib\\site-packages (from azureml-telemetry==1.0.74.*->azureml-train-core==1.0.74.*->azureml-pipeline-steps==1.0.74.*->azureml.pipeline) (0.11.9)\n",
      "Requirement already satisfied: pywin32>=223 in c:\\users\\modestasj\\appdata\\local\\programs\\python\\python36\\lib\\site-packages (from pypiwin32==223; sys_platform == \"win32\" and python_version >= \"3.6\"->docker->azureml-core==1.0.74.*->azureml-pipeline-core==1.0.74.*->azureml.pipeline) (224)\n",
      "Requirement already satisfied: pycparser in c:\\users\\modestasj\\appdata\\local\\programs\\python\\python36\\lib\\site-packages (from cffi!=1.11.3,>=1.8->cryptography!=1.9,!=2.0.*,!=2.1.*,!=2.2.*->azureml-core==1.0.74.*->azureml-pipeline-core==1.0.74.*->azureml.pipeline) (2.19)\n",
      "Requirement already satisfied: oauthlib>=3.0.0 in c:\\users\\modestasj\\appdata\\local\\programs\\python\\python36\\lib\\site-packages (from requests-oauthlib>=0.5.0->msrest>=0.5.1->azureml-core==1.0.74.*->azureml-pipeline-core==1.0.74.*->azureml.pipeline) (3.1.0)\n",
      "Installing collected packages: azureml-pipeline-core, azureml-telemetry, azureml-train-restclients-hyperdrive, azureml-train-core, azureml-pipeline-steps, azureml.pipeline\n",
      "  Found existing installation: azureml-pipeline-core 1.0.57\n",
      "    Uninstalling azureml-pipeline-core-1.0.57:\n",
      "      Successfully uninstalled azureml-pipeline-core-1.0.57\n",
      "  Found existing installation: azureml-telemetry 1.0.57\n",
      "    Uninstalling azureml-telemetry-1.0.57:\n",
      "      Successfully uninstalled azureml-telemetry-1.0.57\n",
      "  Found existing installation: azureml-train-restclients-hyperdrive 1.0.57\n",
      "    Uninstalling azureml-train-restclients-hyperdrive-1.0.57:\n",
      "      Successfully uninstalled azureml-train-restclients-hyperdrive-1.0.57\n",
      "  Found existing installation: azureml-train-core 1.0.57\n",
      "    Uninstalling azureml-train-core-1.0.57:\n",
      "      Successfully uninstalled azureml-train-core-1.0.57\n",
      "  Found existing installation: azureml-pipeline-steps 1.0.57\n",
      "    Uninstalling azureml-pipeline-steps-1.0.57:\n",
      "      Successfully uninstalled azureml-pipeline-steps-1.0.57\n",
      "Successfully installed azureml-pipeline-core-1.0.74 azureml-pipeline-steps-1.0.74 azureml-telemetry-1.0.74 azureml-train-core-1.0.74 azureml-train-restclients-hyperdrive-1.0.74 azureml.pipeline\n"
     ]
    },
    {
     "name": "stderr",
     "output_type": "stream",
     "text": [
      "ERROR: azureml-widgets 1.0.57 has requirement azureml-core==1.0.57.*, but you'll have azureml-core 1.0.74 which is incompatible.\n",
      "ERROR: azureml-widgets 1.0.57 has requirement azureml-telemetry==1.0.57.*, but you'll have azureml-telemetry 1.0.74 which is incompatible.\n",
      "ERROR: azureml-train 1.0.57 has requirement azureml-train-core==1.0.57.*, but you'll have azureml-train-core 1.0.74 which is incompatible.\n",
      "ERROR: azureml-sdk 1.0.57 has requirement azureml-core==1.0.57.*, but you'll have azureml-core 1.0.74 which is incompatible.\n",
      "ERROR: azureml-sdk 1.0.57 has requirement azureml-pipeline==1.0.57.*, but you'll have azureml-pipeline 1.0.74 which is incompatible.\n",
      "WARNING: You are using pip version 19.2.3, however version 19.3.1 is available.\n",
      "You should consider upgrading via the 'python -m pip install --upgrade pip' command.\n"
     ]
    }
   ],
   "source": [
    "!pip install azureml.pipeline"
   ]
  },
  {
   "cell_type": "code",
   "execution_count": 4,
   "metadata": {},
   "outputs": [
    {
     "name": "stdout",
     "output_type": "stream",
     "text": [
      "Collecting azureml.widgets\n",
      "  Downloading https://files.pythonhosted.org/packages/71/9d/20d5300cc8cced61c86fdfd28ddd527c1c58f03f4181a6a4eae7b03fff78/azureml_widgets-1.0.74-py3-none-any.whl (9.3MB)\n",
      "Requirement already satisfied: azureml-core==1.0.74.* in c:\\users\\modestasj\\appdata\\local\\programs\\python\\python36\\lib\\site-packages (from azureml.widgets) (1.0.74)\n",
      "Requirement already satisfied: ipywidgets>=7.0.0 in c:\\users\\modestasj\\appdata\\local\\programs\\python\\python36\\lib\\site-packages (from azureml.widgets) (7.5.1)\n",
      "Requirement already satisfied: azureml-telemetry==1.0.74.* in c:\\users\\modestasj\\appdata\\local\\programs\\python\\python36\\lib\\site-packages (from azureml.widgets) (1.0.74)\n",
      "Requirement already satisfied: ndg-httpsclient in c:\\users\\modestasj\\appdata\\local\\programs\\python\\python36\\lib\\site-packages (from azureml-core==1.0.74.*->azureml.widgets) (0.5.1)\n",
      "Requirement already satisfied: pytz in c:\\users\\modestasj\\appdata\\local\\programs\\python\\python36\\lib\\site-packages (from azureml-core==1.0.74.*->azureml.widgets) (2019.2)\n",
      "Requirement already satisfied: pathspec in c:\\users\\modestasj\\appdata\\local\\programs\\python\\python36\\lib\\site-packages (from azureml-core==1.0.74.*->azureml.widgets) (0.5.9)\n",
      "Requirement already satisfied: azure-mgmt-storage>=1.5.0 in c:\\users\\modestasj\\appdata\\local\\programs\\python\\python36\\lib\\site-packages (from azureml-core==1.0.74.*->azureml.widgets) (4.0.0)\n",
      "Requirement already satisfied: requests>=2.19.1 in c:\\users\\modestasj\\appdata\\local\\programs\\python\\python36\\lib\\site-packages (from azureml-core==1.0.74.*->azureml.widgets) (2.22.0)\n",
      "Requirement already satisfied: msrestazure>=0.4.33 in c:\\users\\modestasj\\appdata\\local\\programs\\python\\python36\\lib\\site-packages (from azureml-core==1.0.74.*->azureml.widgets) (0.6.1)\n",
      "Requirement already satisfied: backports.tempfile in c:\\users\\modestasj\\appdata\\local\\programs\\python\\python36\\lib\\site-packages (from azureml-core==1.0.74.*->azureml.widgets) (1.0)\n",
      "Requirement already satisfied: azure-mgmt-resource>=1.2.1 in c:\\users\\modestasj\\appdata\\local\\programs\\python\\python36\\lib\\site-packages (from azureml-core==1.0.74.*->azureml.widgets) (3.1.0)\n",
      "Requirement already satisfied: azure-graphrbac>=0.40.0 in c:\\users\\modestasj\\appdata\\local\\programs\\python\\python36\\lib\\site-packages (from azureml-core==1.0.74.*->azureml.widgets) (0.61.1)\n",
      "Requirement already satisfied: jsonpickle in c:\\users\\modestasj\\appdata\\local\\programs\\python\\python36\\lib\\site-packages (from azureml-core==1.0.74.*->azureml.widgets) (1.2)\n",
      "Requirement already satisfied: ruamel.yaml<=0.15.89,>=0.15.35 in c:\\users\\modestasj\\appdata\\local\\programs\\python\\python36\\lib\\site-packages (from azureml-core==1.0.74.*->azureml.widgets) (0.15.89)\n",
      "Requirement already satisfied: cryptography!=1.9,!=2.0.*,!=2.1.*,!=2.2.* in c:\\users\\modestasj\\appdata\\local\\programs\\python\\python36\\lib\\site-packages (from azureml-core==1.0.74.*->azureml.widgets) (2.7)\n",
      "Requirement already satisfied: SecretStorage in c:\\users\\modestasj\\appdata\\local\\programs\\python\\python36\\lib\\site-packages (from azureml-core==1.0.74.*->azureml.widgets) (3.1.1)\n",
      "Requirement already satisfied: six>=1.11.0 in c:\\users\\modestasj\\appdata\\local\\programs\\python\\python36\\lib\\site-packages (from azureml-core==1.0.74.*->azureml.widgets) (1.12.0)\n",
      "Requirement already satisfied: azure-mgmt-authorization>=0.40.0 in c:\\users\\modestasj\\appdata\\local\\programs\\python\\python36\\lib\\site-packages (from azureml-core==1.0.74.*->azureml.widgets) (0.60.0)\n",
      "Requirement already satisfied: pyopenssl in c:\\users\\modestasj\\appdata\\local\\programs\\python\\python36\\lib\\site-packages (from azureml-core==1.0.74.*->azureml.widgets) (19.0.0)\n",
      "Requirement already satisfied: jmespath in c:\\users\\modestasj\\appdata\\local\\programs\\python\\python36\\lib\\site-packages (from azureml-core==1.0.74.*->azureml.widgets) (0.9.4)\n",
      "Requirement already satisfied: azure-common>=1.1.12 in c:\\users\\modestasj\\appdata\\local\\programs\\python\\python36\\lib\\site-packages (from azureml-core==1.0.74.*->azureml.widgets) (1.1.23)\n",
      "Requirement already satisfied: PyJWT in c:\\users\\modestasj\\appdata\\local\\programs\\python\\python36\\lib\\site-packages (from azureml-core==1.0.74.*->azureml.widgets) (1.7.1)\n",
      "Requirement already satisfied: contextlib2 in c:\\users\\modestasj\\appdata\\local\\programs\\python\\python36\\lib\\site-packages (from azureml-core==1.0.74.*->azureml.widgets) (0.5.5)\n",
      "Requirement already satisfied: azure-mgmt-containerregistry>=2.0.0 in c:\\users\\modestasj\\appdata\\local\\programs\\python\\python36\\lib\\site-packages (from azureml-core==1.0.74.*->azureml.widgets) (2.8.0)\n",
      "Requirement already satisfied: adal>=1.2.0 in c:\\users\\modestasj\\appdata\\local\\programs\\python\\python36\\lib\\site-packages (from azureml-core==1.0.74.*->azureml.widgets) (1.2.2)\n",
      "Requirement already satisfied: urllib3>=1.23 in c:\\users\\modestasj\\appdata\\local\\programs\\python\\python36\\lib\\site-packages (from azureml-core==1.0.74.*->azureml.widgets) (1.25.3)\n",
      "Requirement already satisfied: azure-mgmt-keyvault>=0.40.0 in c:\\users\\modestasj\\appdata\\local\\programs\\python\\python36\\lib\\site-packages (from azureml-core==1.0.74.*->azureml.widgets) (2.0.0)\n",
      "Requirement already satisfied: python-dateutil>=2.7.3 in c:\\users\\modestasj\\appdata\\local\\programs\\python\\python36\\lib\\site-packages (from azureml-core==1.0.74.*->azureml.widgets) (2.8.0)\n",
      "Requirement already satisfied: msrest>=0.5.1 in c:\\users\\modestasj\\appdata\\local\\programs\\python\\python36\\lib\\site-packages (from azureml-core==1.0.74.*->azureml.widgets) (0.6.9)\n",
      "Requirement already satisfied: docker in c:\\users\\modestasj\\appdata\\local\\programs\\python\\python36\\lib\\site-packages (from azureml-core==1.0.74.*->azureml.widgets) (4.0.2)\n",
      "Requirement already satisfied: ipykernel>=4.5.1 in c:\\users\\modestasj\\appdata\\local\\programs\\python\\python36\\lib\\site-packages (from ipywidgets>=7.0.0->azureml.widgets) (5.1.1)\n",
      "Requirement already satisfied: widgetsnbextension~=3.5.0 in c:\\users\\modestasj\\appdata\\local\\programs\\python\\python36\\lib\\site-packages (from ipywidgets>=7.0.0->azureml.widgets) (3.5.1)\n",
      "Requirement already satisfied: nbformat>=4.2.0 in c:\\users\\modestasj\\appdata\\local\\programs\\python\\python36\\lib\\site-packages (from ipywidgets>=7.0.0->azureml.widgets) (4.4.0)\n",
      "Requirement already satisfied: traitlets>=4.3.1 in c:\\users\\modestasj\\appdata\\local\\programs\\python\\python36\\lib\\site-packages (from ipywidgets>=7.0.0->azureml.widgets) (4.3.2)\n",
      "Requirement already satisfied: ipython>=4.0.0; python_version >= \"3.3\" in c:\\users\\modestasj\\appdata\\local\\programs\\python\\python36\\lib\\site-packages (from ipywidgets>=7.0.0->azureml.widgets) (7.7.0)\n",
      "Requirement already satisfied: applicationinsights in c:\\users\\modestasj\\appdata\\local\\programs\\python\\python36\\lib\\site-packages (from azureml-telemetry==1.0.74.*->azureml.widgets) (0.11.9)\n",
      "Requirement already satisfied: pyasn1>=0.1.1 in c:\\users\\modestasj\\appdata\\local\\programs\\python\\python36\\lib\\site-packages (from ndg-httpsclient->azureml-core==1.0.74.*->azureml.widgets) (0.4.6)\n",
      "Requirement already satisfied: idna<2.9,>=2.5 in c:\\users\\modestasj\\appdata\\local\\programs\\python\\python36\\lib\\site-packages (from requests>=2.19.1->azureml-core==1.0.74.*->azureml.widgets) (2.8)\n",
      "Requirement already satisfied: certifi>=2017.4.17 in c:\\users\\modestasj\\appdata\\local\\programs\\python\\python36\\lib\\site-packages (from requests>=2.19.1->azureml-core==1.0.74.*->azureml.widgets) (2019.6.16)\n",
      "Requirement already satisfied: chardet<3.1.0,>=3.0.2 in c:\\users\\modestasj\\appdata\\local\\programs\\python\\python36\\lib\\site-packages (from requests>=2.19.1->azureml-core==1.0.74.*->azureml.widgets) (3.0.4)\n",
      "Requirement already satisfied: backports.weakref in c:\\users\\modestasj\\appdata\\local\\programs\\python\\python36\\lib\\site-packages (from backports.tempfile->azureml-core==1.0.74.*->azureml.widgets) (1.0.post1)\n",
      "Requirement already satisfied: asn1crypto>=0.21.0 in c:\\users\\modestasj\\appdata\\local\\programs\\python\\python36\\lib\\site-packages (from cryptography!=1.9,!=2.0.*,!=2.1.*,!=2.2.*->azureml-core==1.0.74.*->azureml.widgets) (0.24.0)\n",
      "Requirement already satisfied: cffi!=1.11.3,>=1.8 in c:\\users\\modestasj\\appdata\\local\\programs\\python\\python36\\lib\\site-packages (from cryptography!=1.9,!=2.0.*,!=2.1.*,!=2.2.*->azureml-core==1.0.74.*->azureml.widgets) (1.12.3)\n",
      "Requirement already satisfied: jeepney in c:\\users\\modestasj\\appdata\\local\\programs\\python\\python36\\lib\\site-packages (from SecretStorage->azureml-core==1.0.74.*->azureml.widgets) (0.4.1)\n",
      "Requirement already satisfied: isodate>=0.6.0 in c:\\users\\modestasj\\appdata\\local\\programs\\python\\python36\\lib\\site-packages (from msrest>=0.5.1->azureml-core==1.0.74.*->azureml.widgets) (0.6.0)\n",
      "Requirement already satisfied: requests-oauthlib>=0.5.0 in c:\\users\\modestasj\\appdata\\local\\programs\\python\\python36\\lib\\site-packages (from msrest>=0.5.1->azureml-core==1.0.74.*->azureml.widgets) (1.2.0)\n",
      "Requirement already satisfied: websocket-client>=0.32.0 in c:\\users\\modestasj\\appdata\\local\\programs\\python\\python36\\lib\\site-packages (from docker->azureml-core==1.0.74.*->azureml.widgets) (0.56.0)\n",
      "Requirement already satisfied: pypiwin32==223; sys_platform == \"win32\" and python_version >= \"3.6\" in c:\\users\\modestasj\\appdata\\local\\programs\\python\\python36\\lib\\site-packages (from docker->azureml-core==1.0.74.*->azureml.widgets) (223)\n",
      "Requirement already satisfied: tornado>=4.2 in c:\\users\\modestasj\\appdata\\local\\programs\\python\\python36\\lib\\site-packages (from ipykernel>=4.5.1->ipywidgets>=7.0.0->azureml.widgets) (6.0.3)\n",
      "Requirement already satisfied: jupyter-client in c:\\users\\modestasj\\appdata\\local\\programs\\python\\python36\\lib\\site-packages (from ipykernel>=4.5.1->ipywidgets>=7.0.0->azureml.widgets) (5.3.1)\n",
      "Requirement already satisfied: notebook>=4.4.1 in c:\\users\\modestasj\\appdata\\local\\programs\\python\\python36\\lib\\site-packages (from widgetsnbextension~=3.5.0->ipywidgets>=7.0.0->azureml.widgets) (6.0.0)\n",
      "Requirement already satisfied: jsonschema!=2.5.0,>=2.4 in c:\\users\\modestasj\\appdata\\local\\programs\\python\\python36\\lib\\site-packages (from nbformat>=4.2.0->ipywidgets>=7.0.0->azureml.widgets) (3.0.2)\n",
      "Requirement already satisfied: jupyter-core in c:\\users\\modestasj\\appdata\\local\\programs\\python\\python36\\lib\\site-packages (from nbformat>=4.2.0->ipywidgets>=7.0.0->azureml.widgets) (4.5.0)\n",
      "Requirement already satisfied: ipython-genutils in c:\\users\\modestasj\\appdata\\local\\programs\\python\\python36\\lib\\site-packages (from nbformat>=4.2.0->ipywidgets>=7.0.0->azureml.widgets) (0.2.0)\n",
      "Requirement already satisfied: decorator in c:\\users\\modestasj\\appdata\\local\\programs\\python\\python36\\lib\\site-packages (from traitlets>=4.3.1->ipywidgets>=7.0.0->azureml.widgets) (4.4.0)\n",
      "Requirement already satisfied: pygments in c:\\users\\modestasj\\appdata\\local\\programs\\python\\python36\\lib\\site-packages (from ipython>=4.0.0; python_version >= \"3.3\"->ipywidgets>=7.0.0->azureml.widgets) (2.4.2)\n",
      "Requirement already satisfied: pickleshare in c:\\users\\modestasj\\appdata\\local\\programs\\python\\python36\\lib\\site-packages (from ipython>=4.0.0; python_version >= \"3.3\"->ipywidgets>=7.0.0->azureml.widgets) (0.7.5)\n",
      "Requirement already satisfied: jedi>=0.10 in c:\\users\\modestasj\\appdata\\local\\programs\\python\\python36\\lib\\site-packages (from ipython>=4.0.0; python_version >= \"3.3\"->ipywidgets>=7.0.0->azureml.widgets) (0.14.1)\n",
      "Requirement already satisfied: colorama; sys_platform == \"win32\" in c:\\users\\modestasj\\appdata\\local\\programs\\python\\python36\\lib\\site-packages (from ipython>=4.0.0; python_version >= \"3.3\"->ipywidgets>=7.0.0->azureml.widgets) (0.4.1)\n",
      "Requirement already satisfied: backcall in c:\\users\\modestasj\\appdata\\local\\programs\\python\\python36\\lib\\site-packages (from ipython>=4.0.0; python_version >= \"3.3\"->ipywidgets>=7.0.0->azureml.widgets) (0.1.0)\n",
      "Requirement already satisfied: setuptools>=18.5 in c:\\users\\modestasj\\appdata\\local\\programs\\python\\python36\\lib\\site-packages (from ipython>=4.0.0; python_version >= \"3.3\"->ipywidgets>=7.0.0->azureml.widgets) (41.0.1)\n",
      "Requirement already satisfied: prompt-toolkit<2.1.0,>=2.0.0 in c:\\users\\modestasj\\appdata\\local\\programs\\python\\python36\\lib\\site-packages (from ipython>=4.0.0; python_version >= \"3.3\"->ipywidgets>=7.0.0->azureml.widgets) (2.0.9)\n",
      "Requirement already satisfied: pycparser in c:\\users\\modestasj\\appdata\\local\\programs\\python\\python36\\lib\\site-packages (from cffi!=1.11.3,>=1.8->cryptography!=1.9,!=2.0.*,!=2.1.*,!=2.2.*->azureml-core==1.0.74.*->azureml.widgets) (2.19)\n",
      "Requirement already satisfied: oauthlib>=3.0.0 in c:\\users\\modestasj\\appdata\\local\\programs\\python\\python36\\lib\\site-packages (from requests-oauthlib>=0.5.0->msrest>=0.5.1->azureml-core==1.0.74.*->azureml.widgets) (3.1.0)\n",
      "Requirement already satisfied: pywin32>=223 in c:\\users\\modestasj\\appdata\\local\\programs\\python\\python36\\lib\\site-packages (from pypiwin32==223; sys_platform == \"win32\" and python_version >= \"3.6\"->docker->azureml-core==1.0.74.*->azureml.widgets) (224)\n",
      "Requirement already satisfied: pyzmq>=13 in c:\\users\\modestasj\\appdata\\local\\programs\\python\\python36\\lib\\site-packages (from jupyter-client->ipykernel>=4.5.1->ipywidgets>=7.0.0->azureml.widgets) (18.0.2)\n",
      "Requirement already satisfied: terminado>=0.8.1 in c:\\users\\modestasj\\appdata\\local\\programs\\python\\python36\\lib\\site-packages (from notebook>=4.4.1->widgetsnbextension~=3.5.0->ipywidgets>=7.0.0->azureml.widgets) (0.8.2)\n",
      "Requirement already satisfied: nbconvert in c:\\users\\modestasj\\appdata\\local\\programs\\python\\python36\\lib\\site-packages (from notebook>=4.4.1->widgetsnbextension~=3.5.0->ipywidgets>=7.0.0->azureml.widgets) (5.5.0)\n",
      "Requirement already satisfied: Send2Trash in c:\\users\\modestasj\\appdata\\local\\programs\\python\\python36\\lib\\site-packages (from notebook>=4.4.1->widgetsnbextension~=3.5.0->ipywidgets>=7.0.0->azureml.widgets) (1.5.0)\n",
      "Requirement already satisfied: jinja2 in c:\\users\\modestasj\\appdata\\local\\programs\\python\\python36\\lib\\site-packages (from notebook>=4.4.1->widgetsnbextension~=3.5.0->ipywidgets>=7.0.0->azureml.widgets) (2.10.1)\n",
      "Requirement already satisfied: prometheus-client in c:\\users\\modestasj\\appdata\\local\\programs\\python\\python36\\lib\\site-packages (from notebook>=4.4.1->widgetsnbextension~=3.5.0->ipywidgets>=7.0.0->azureml.widgets) (0.7.1)\n",
      "Requirement already satisfied: attrs>=17.4.0 in c:\\users\\modestasj\\appdata\\local\\programs\\python\\python36\\lib\\site-packages (from jsonschema!=2.5.0,>=2.4->nbformat>=4.2.0->ipywidgets>=7.0.0->azureml.widgets) (19.1.0)\n",
      "Requirement already satisfied: pyrsistent>=0.14.0 in c:\\users\\modestasj\\appdata\\local\\programs\\python\\python36\\lib\\site-packages (from jsonschema!=2.5.0,>=2.4->nbformat>=4.2.0->ipywidgets>=7.0.0->azureml.widgets) (0.15.4)\n",
      "Requirement already satisfied: parso>=0.5.0 in c:\\users\\modestasj\\appdata\\local\\programs\\python\\python36\\lib\\site-packages (from jedi>=0.10->ipython>=4.0.0; python_version >= \"3.3\"->ipywidgets>=7.0.0->azureml.widgets) (0.5.1)\n",
      "Requirement already satisfied: wcwidth in c:\\users\\modestasj\\appdata\\local\\programs\\python\\python36\\lib\\site-packages (from prompt-toolkit<2.1.0,>=2.0.0->ipython>=4.0.0; python_version >= \"3.3\"->ipywidgets>=7.0.0->azureml.widgets) (0.1.7)\n",
      "Requirement already satisfied: pywinpty>=0.5; os_name == \"nt\" in c:\\users\\modestasj\\appdata\\local\\programs\\python\\python36\\lib\\site-packages (from terminado>=0.8.1->notebook>=4.4.1->widgetsnbextension~=3.5.0->ipywidgets>=7.0.0->azureml.widgets) (0.5.5)\n",
      "Requirement already satisfied: entrypoints>=0.2.2 in c:\\users\\modestasj\\appdata\\local\\programs\\python\\python36\\lib\\site-packages (from nbconvert->notebook>=4.4.1->widgetsnbextension~=3.5.0->ipywidgets>=7.0.0->azureml.widgets) (0.3)\n",
      "Requirement already satisfied: bleach in c:\\users\\modestasj\\appdata\\local\\programs\\python\\python36\\lib\\site-packages (from nbconvert->notebook>=4.4.1->widgetsnbextension~=3.5.0->ipywidgets>=7.0.0->azureml.widgets) (3.1.0)\n",
      "Requirement already satisfied: testpath in c:\\users\\modestasj\\appdata\\local\\programs\\python\\python36\\lib\\site-packages (from nbconvert->notebook>=4.4.1->widgetsnbextension~=3.5.0->ipywidgets>=7.0.0->azureml.widgets) (0.4.2)\n",
      "Requirement already satisfied: mistune>=0.8.1 in c:\\users\\modestasj\\appdata\\local\\programs\\python\\python36\\lib\\site-packages (from nbconvert->notebook>=4.4.1->widgetsnbextension~=3.5.0->ipywidgets>=7.0.0->azureml.widgets) (0.8.4)\n",
      "Requirement already satisfied: pandocfilters>=1.4.1 in c:\\users\\modestasj\\appdata\\local\\programs\\python\\python36\\lib\\site-packages (from nbconvert->notebook>=4.4.1->widgetsnbextension~=3.5.0->ipywidgets>=7.0.0->azureml.widgets) (1.4.2)\n",
      "Requirement already satisfied: defusedxml in c:\\users\\modestasj\\appdata\\local\\programs\\python\\python36\\lib\\site-packages (from nbconvert->notebook>=4.4.1->widgetsnbextension~=3.5.0->ipywidgets>=7.0.0->azureml.widgets) (0.6.0)\n",
      "Requirement already satisfied: MarkupSafe>=0.23 in c:\\users\\modestasj\\appdata\\local\\programs\\python\\python36\\lib\\site-packages (from jinja2->notebook>=4.4.1->widgetsnbextension~=3.5.0->ipywidgets>=7.0.0->azureml.widgets) (1.1.1)\n",
      "Requirement already satisfied: webencodings in c:\\users\\modestasj\\appdata\\local\\programs\\python\\python36\\lib\\site-packages (from bleach->nbconvert->notebook>=4.4.1->widgetsnbextension~=3.5.0->ipywidgets>=7.0.0->azureml.widgets) (0.5.1)\n",
      "Installing collected packages: azureml.widgets\n",
      "Successfully installed azureml.widgets\n"
     ]
    },
    {
     "name": "stderr",
     "output_type": "stream",
     "text": [
      "WARNING: You are using pip version 19.2.3, however version 19.3.1 is available.\n",
      "You should consider upgrading via the 'python -m pip install --upgrade pip' command.\n"
     ]
    }
   ],
   "source": [
    "!pip install azureml.widgets"
   ]
  },
  {
   "cell_type": "markdown",
   "metadata": {},
   "source": [
    "# Pipeline setup"
   ]
  },
  {
   "cell_type": "code",
   "execution_count": 5,
   "metadata": {},
   "outputs": [],
   "source": [
    "from azureml.core import Workspace, Datastore\n",
    "\n",
    "ws = Workspace.create(\n",
    "   name = 'hackingjunction',\n",
    "   subscription_id = 'a59b43cd-1c53-4a7e-b715-19b07f028dcf',\n",
    "   resource_group = 'hacking',\n",
    "   location = 'WestEurope',\n",
    "   exist_ok = True)"
   ]
  },
  {
   "cell_type": "code",
   "execution_count": null,
   "metadata": {},
   "outputs": [],
   "source": [
    "account_key = input()"
   ]
  },
  {
   "cell_type": "code",
   "execution_count": 7,
   "metadata": {},
   "outputs": [],
   "source": [
    "storage_account = \"hackingjunctio1306266651\"\n",
    "container_name = \"inputs\""
   ]
  },
  {
   "cell_type": "code",
   "execution_count": 8,
   "metadata": {},
   "outputs": [],
   "source": [
    "from azureml.core.runconfig import CondaDependencies, RunConfiguration\n",
    "\n",
    "cd = CondaDependencies.create(pip_packages =['azureml-defaults', 'pandas', 'numpy', 'scipy', 'sklearn','azure-storage-blob==2.1.0'])\n",
    "\n",
    "run_config = RunConfiguration(conda_dependencies = cd)\n",
    "run_config.environment.docker.enabled = True\n",
    "run_config.environment.spark.precache_packages = False"
   ]
  },
  {
   "cell_type": "code",
   "execution_count": 9,
   "metadata": {},
   "outputs": [
    {
     "ename": "ErrorResponseException",
     "evalue": "Operation returned an invalid status code 'Forbidden'",
     "output_type": "error",
     "traceback": [
      "\u001b[1;31m---------------------------------------------------------------------------\u001b[0m",
      "\u001b[1;31mErrorResponseException\u001b[0m                    Traceback (most recent call last)",
      "\u001b[1;32m<ipython-input-9-0e87ca7eaa05>\u001b[0m in \u001b[0;36m<module>\u001b[1;34m\u001b[0m\n\u001b[1;32m----> 1\u001b[1;33m \u001b[0mdef_blob_store\u001b[0m \u001b[1;33m=\u001b[0m \u001b[0mDatastore\u001b[0m\u001b[1;33m(\u001b[0m\u001b[0mws\u001b[0m\u001b[1;33m,\u001b[0m \u001b[1;34m'workspaceblobstore'\u001b[0m\u001b[1;33m)\u001b[0m\u001b[1;33m\u001b[0m\u001b[0m\n\u001b[0m",
      "\u001b[1;32mc:\\users\\modestasj\\appdata\\local\\programs\\python\\python36\\lib\\site-packages\\azureml\\core\\datastore.py\u001b[0m in \u001b[0;36m__new__\u001b[1;34m(cls, workspace, name)\u001b[0m\n\u001b[0;32m     86\u001b[0m         \u001b[1;32mif\u001b[0m \u001b[0mname\u001b[0m \u001b[1;32mis\u001b[0m \u001b[1;32mNone\u001b[0m\u001b[1;33m:\u001b[0m\u001b[1;33m\u001b[0m\u001b[0m\n\u001b[0;32m     87\u001b[0m             \u001b[1;32mreturn\u001b[0m \u001b[0mDatastore\u001b[0m\u001b[1;33m.\u001b[0m\u001b[0m_client\u001b[0m\u001b[1;33m(\u001b[0m\u001b[1;33m)\u001b[0m\u001b[1;33m.\u001b[0m\u001b[0mget_default\u001b[0m\u001b[1;33m(\u001b[0m\u001b[0mworkspace\u001b[0m\u001b[1;33m)\u001b[0m\u001b[1;33m\u001b[0m\u001b[0m\n\u001b[1;32m---> 88\u001b[1;33m         \u001b[1;32mreturn\u001b[0m \u001b[0mDatastore\u001b[0m\u001b[1;33m.\u001b[0m\u001b[0m_client\u001b[0m\u001b[1;33m(\u001b[0m\u001b[1;33m)\u001b[0m\u001b[1;33m.\u001b[0m\u001b[0mget\u001b[0m\u001b[1;33m(\u001b[0m\u001b[0mworkspace\u001b[0m\u001b[1;33m,\u001b[0m \u001b[0mname\u001b[0m\u001b[1;33m)\u001b[0m\u001b[1;33m\u001b[0m\u001b[0m\n\u001b[0m\u001b[0;32m     89\u001b[0m \u001b[1;33m\u001b[0m\u001b[0m\n\u001b[0;32m     90\u001b[0m     \u001b[1;32mdef\u001b[0m \u001b[0m__init__\u001b[0m\u001b[1;33m(\u001b[0m\u001b[0mself\u001b[0m\u001b[1;33m,\u001b[0m \u001b[0mworkspace\u001b[0m\u001b[1;33m,\u001b[0m \u001b[0mname\u001b[0m\u001b[1;33m=\u001b[0m\u001b[1;32mNone\u001b[0m\u001b[1;33m)\u001b[0m\u001b[1;33m:\u001b[0m\u001b[1;33m\u001b[0m\u001b[0m\n",
      "\u001b[1;32mc:\\users\\modestasj\\appdata\\local\\programs\\python\\python36\\lib\\site-packages\\azureml\\data\\datastore_client.py\u001b[0m in \u001b[0;36mget\u001b[1;34m(workspace, datastore_name)\u001b[0m\n\u001b[0;32m     63\u001b[0m         \u001b[1;33m:\u001b[0m\u001b[0mrtype\u001b[0m\u001b[1;33m:\u001b[0m \u001b[0mAzureFileDatastore\u001b[0m \u001b[1;32mor\u001b[0m \u001b[0mAzureBlobDatastore\u001b[0m\u001b[1;33m\u001b[0m\u001b[0m\n\u001b[0;32m     64\u001b[0m         \"\"\"\n\u001b[1;32m---> 65\u001b[1;33m         \u001b[1;32mreturn\u001b[0m \u001b[0m_DatastoreClient\u001b[0m\u001b[1;33m.\u001b[0m\u001b[0m_get\u001b[0m\u001b[1;33m(\u001b[0m\u001b[0mworkspace\u001b[0m\u001b[1;33m,\u001b[0m \u001b[0mdatastore_name\u001b[0m\u001b[1;33m)\u001b[0m\u001b[1;33m\u001b[0m\u001b[0m\n\u001b[0m\u001b[0;32m     66\u001b[0m \u001b[1;33m\u001b[0m\u001b[0m\n\u001b[0;32m     67\u001b[0m     \u001b[1;33m@\u001b[0m\u001b[0mstaticmethod\u001b[0m\u001b[1;33m\u001b[0m\u001b[0m\n",
      "\u001b[1;32mc:\\users\\modestasj\\appdata\\local\\programs\\python\\python36\\lib\\site-packages\\azureml\\data\\datastore_client.py\u001b[0m in \u001b[0;36m_get\u001b[1;34m(ws, name, auth, host)\u001b[0m\n\u001b[0;32m    530\u001b[0m         \u001b[0mclient\u001b[0m \u001b[1;33m=\u001b[0m \u001b[0m_DatastoreClient\u001b[0m\u001b[1;33m.\u001b[0m\u001b[0m_get_client\u001b[0m\u001b[1;33m(\u001b[0m\u001b[0mws\u001b[0m\u001b[1;33m,\u001b[0m \u001b[0mauth\u001b[0m\u001b[1;33m,\u001b[0m \u001b[0mhost\u001b[0m\u001b[1;33m)\u001b[0m\u001b[1;33m\u001b[0m\u001b[0m\n\u001b[0;32m    531\u001b[0m         datastore = client.data_stores.get(name, ws._subscription_id, ws._resource_group, ws._workspace_name,\n\u001b[1;32m--> 532\u001b[1;33m                                            custom_headers=_DatastoreClient._custom_headers)\n\u001b[0m\u001b[0;32m    533\u001b[0m \u001b[1;33m\u001b[0m\u001b[0m\n\u001b[0;32m    534\u001b[0m         \u001b[0mmodule_logger\u001b[0m\u001b[1;33m.\u001b[0m\u001b[0mdebug\u001b[0m\u001b[1;33m(\u001b[0m\u001b[1;34m\"Received DTO from the datastore service\"\u001b[0m\u001b[1;33m)\u001b[0m\u001b[1;33m\u001b[0m\u001b[0m\n",
      "\u001b[1;32mc:\\users\\modestasj\\appdata\\local\\programs\\python\\python36\\lib\\site-packages\\azureml\\_restclient\\operations\\data_stores_operations.py\u001b[0m in \u001b[0;36mget\u001b[1;34m(self, name, subscription_id, resource_group_name, workspace_name, custom_headers, raw, **operation_config)\u001b[0m\n\u001b[0;32m    287\u001b[0m \u001b[1;33m\u001b[0m\u001b[0m\n\u001b[0;32m    288\u001b[0m         \u001b[1;32mif\u001b[0m \u001b[0mresponse\u001b[0m\u001b[1;33m.\u001b[0m\u001b[0mstatus_code\u001b[0m \u001b[1;32mnot\u001b[0m \u001b[1;32min\u001b[0m \u001b[1;33m[\u001b[0m\u001b[1;36m200\u001b[0m\u001b[1;33m]\u001b[0m\u001b[1;33m:\u001b[0m\u001b[1;33m\u001b[0m\u001b[0m\n\u001b[1;32m--> 289\u001b[1;33m             \u001b[1;32mraise\u001b[0m \u001b[0mmodels\u001b[0m\u001b[1;33m.\u001b[0m\u001b[0mErrorResponseException\u001b[0m\u001b[1;33m(\u001b[0m\u001b[0mself\u001b[0m\u001b[1;33m.\u001b[0m\u001b[0m_deserialize\u001b[0m\u001b[1;33m,\u001b[0m \u001b[0mresponse\u001b[0m\u001b[1;33m)\u001b[0m\u001b[1;33m\u001b[0m\u001b[0m\n\u001b[0m\u001b[0;32m    290\u001b[0m \u001b[1;33m\u001b[0m\u001b[0m\n\u001b[0;32m    291\u001b[0m         \u001b[0mdeserialized\u001b[0m \u001b[1;33m=\u001b[0m \u001b[1;32mNone\u001b[0m\u001b[1;33m\u001b[0m\u001b[0m\n",
      "\u001b[1;31mErrorResponseException\u001b[0m: Operation returned an invalid status code 'Forbidden'"
     ]
    }
   ],
   "source": [
    "def_blob_store = Datastore(ws, 'workspaceblobstore')"
   ]
  },
  {
   "cell_type": "code",
   "execution_count": null,
   "metadata": {},
   "outputs": [],
   "source": [
    "from azureml.data.data_reference import DataReference\n",
    "from azureml.pipeline.core import PipelineData\n",
    "from azureml.pipeline.steps.python_script_step import PythonScriptStep\n",
    "import os\n",
    "from azureml.core.compute import ComputeTarget\n",
    "\n",
    "target = ws.compute_targets[\"JunctionCompute\"]\n",
    "\n",
    "input_ref = PipelineData(\n",
    "    f\"input\",\n",
    "    datastore = def_blob_store,\n",
    "    output_name=f\"input\")\n",
    "\n",
    "output_ref = PipelineData(\n",
    "    f\"output\",\n",
    "    datastore = def_blob_store,\n",
    "    output_name=f\"output\")\n",
    "\n",
    "train_step = PythonScriptStep(\n",
    "    script_name = 'train.py',\n",
    "    arguments = ['--input_path', input_ref,\n",
    "                 '--output', output_ref,            \n",
    "                 '--input_container', container_name,\n",
    "                 '--output_container', 'outputs',\n",
    "                 '--input_account', storage_account,\n",
    "                 '--input_key', account_key],\n",
    "    outputs = [output_ref, input_ref],\n",
    "    compute_target = target,\n",
    "    source_directory = './BehavioralAnalysis',\n",
    "    allow_reuse = False,\n",
    "    runconfig = run_config\n",
    ")\n",
    "\n",
    "pipeline_steps = [train_step]"
   ]
  },
  {
   "cell_type": "code",
   "execution_count": null,
   "metadata": {},
   "outputs": [],
   "source": [
    "from azureml.pipeline.core import Pipeline\n",
    "\n",
    "pipeline = Pipeline(workspace = ws, steps = pipeline_steps)"
   ]
  },
  {
   "cell_type": "code",
   "execution_count": 7,
   "metadata": {},
   "outputs": [
    {
     "ename": "NameError",
     "evalue": "name 'pipeline' is not defined",
     "output_type": "error",
     "traceback": [
      "\u001b[1;31m---------------------------------------------------------------------------\u001b[0m",
      "\u001b[1;31mNameError\u001b[0m                                 Traceback (most recent call last)",
      "\u001b[1;32m<ipython-input-7-31298e197fca>\u001b[0m in \u001b[0;36m<module>\u001b[1;34m\u001b[0m\n\u001b[0;32m      2\u001b[0m \u001b[1;32mfrom\u001b[0m \u001b[0mazureml\u001b[0m\u001b[1;33m.\u001b[0m\u001b[0mwidgets\u001b[0m \u001b[1;32mimport\u001b[0m \u001b[0mRunDetails\u001b[0m\u001b[1;33m\u001b[0m\u001b[0m\n\u001b[0;32m      3\u001b[0m \u001b[1;33m\u001b[0m\u001b[0m\n\u001b[1;32m----> 4\u001b[1;33m \u001b[0mpipeline_run\u001b[0m \u001b[1;33m=\u001b[0m \u001b[0mExperiment\u001b[0m\u001b[1;33m(\u001b[0m\u001b[0mws\u001b[0m\u001b[1;33m,\u001b[0m \u001b[1;34m'Behavioral_Analysis_Experiment'\u001b[0m\u001b[1;33m)\u001b[0m\u001b[1;33m.\u001b[0m\u001b[0msubmit\u001b[0m\u001b[1;33m(\u001b[0m\u001b[0mpipeline\u001b[0m\u001b[1;33m)\u001b[0m\u001b[1;33m\u001b[0m\u001b[0m\n\u001b[0m\u001b[0;32m      5\u001b[0m \u001b[1;33m\u001b[0m\u001b[0m\n\u001b[0;32m      6\u001b[0m \u001b[1;31m#pipeline_run.wait_for_completion(show_output = True)\u001b[0m\u001b[1;33m\u001b[0m\u001b[1;33m\u001b[0m\u001b[0m\n",
      "\u001b[1;31mNameError\u001b[0m: name 'pipeline' is not defined"
     ]
    }
   ],
   "source": [
    "from azureml.core.experiment import Experiment\n",
    "from azureml.widgets import RunDetails\n",
    "\n",
    "pipeline_run = Experiment(ws, 'Behavioral_Analysis_Experiment').submit(pipeline)\n",
    "\n",
    "#pipeline_run.wait_for_completion(show_output = True)\n",
    "RunDetails(pipeline_run).show()"
   ]
  },
  {
   "cell_type": "markdown",
   "metadata": {},
   "source": [
    "# Deployment"
   ]
  },
  {
   "cell_type": "code",
   "execution_count": null,
   "metadata": {},
   "outputs": [],
   "source": [
    "from azureml.pipeline.core import PublishedPipeline\n",
    "\n",
    "pipelines = list(filter(lambda x: x._name == 'Behavioral_Analysis_Experiment', PublishedPipeline.list(ws)))\n",
    "for pipeline in pipelines:\n",
    "    pipeline.disable()"
   ]
  },
  {
   "cell_type": "code",
   "execution_count": null,
   "metadata": {},
   "outputs": [],
   "source": [
    "pipeline = Pipeline(workspace = ws, steps = pipeline_steps)\n",
    "\n",
    "published_pipeline = pipeline.publish(\n",
    "    name=\"Behavioral_Analysis_Experiment\",\n",
    "    description=\"Retrains the model & computes behavioral tags for users\",\n",
    "    version=0.1)"
   ]
  }
 ],
 "metadata": {
  "kernelspec": {
   "display_name": "Python 3",
   "language": "python",
   "name": "python3"
  },
  "language_info": {
   "codemirror_mode": {
    "name": "ipython",
    "version": 3
   },
   "file_extension": ".py",
   "mimetype": "text/x-python",
   "name": "python",
   "nbconvert_exporter": "python",
   "pygments_lexer": "ipython3",
   "version": "3.7.3"
  }
 },
 "nbformat": 4,
 "nbformat_minor": 2
}
